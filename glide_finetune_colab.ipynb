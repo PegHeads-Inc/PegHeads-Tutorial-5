{
  "nbformat": 4,
  "nbformat_minor": 0,
  "metadata": {
    "colab": {
      "name": "glide-finetune-colab.ipynb",
      "provenance": [],
      "collapsed_sections": []
    },
    "kernelspec": {
      "name": "python3",
      "display_name": "Python 3"
    },
    "language_info": {
      "name": "python"
    },
    "accelerator": "GPU"
  },
  "cells": [
    {
      "cell_type": "markdown",
      "source": [
        "Here is the [glide-finetune repo](https://github.com/afiaka87/glide-finetune) code modified to make it work on Colab. Tested only with Colab Pro so far.\n",
        "\n",
        "[![Open In Colab](https://colab.research.google.com/assets/colab-badge.svg)](https://colab.research.google.com/github/eliohead/glide-finetune-colab/blob/main/glide_finetune_colab.ipynb)"
      ],
      "metadata": {
        "id": "Ro8uR3UYlJeA"
      }
    },
    {
      "cell_type": "code",
      "execution_count": null,
      "metadata": {
        "id": "QiRAvRnAG5U1"
      },
      "outputs": [],
      "source": [
        "!git clone https://github.com/eliohead/glide-finetune\n",
        "!cd glide-finetune/"
      ]
    },
    {
      "cell_type": "code",
      "source": [
        "!pip install -r '/content/glide-finetune/requirements.txt'"
      ],
      "metadata": {
        "id": "8xegIOxgHKRj"
      },
      "execution_count": null,
      "outputs": []
    },
    {
      "cell_type": "code",
      "source": [
        "!pip install webdataset==0.1.103"
      ],
      "metadata": {
        "id": "IOl0UiG6HZ7S"
      },
      "execution_count": null,
      "outputs": []
    },
    {
      "cell_type": "markdown",
      "source": [
        "**Train GLIDE**\n",
        "- **Make sure** your dataset folder is named '**data**'. Exact path has to be **'/content/data'**\n",
        "- Images and text files has to be all together in the folder. If an image is named *001.jpg* its relative txt file should be named *001.txt* and so on.\n",
        "- I deactivated sampling during training because continued to give me errors here in Colab. Only checkpoints will be saved (.pt files) and you can test image quality directly in testing notebook. "
      ],
      "metadata": {
        "id": "O1VUUXtfHezC"
      }
    },
    {
      "cell_type": "code",
      "source": [
        "!python '/content/glide-finetune/train_glide.py' \\\n",
        "  --epochs 20 \\\n",
        "  --use_captions \\\n",
        "  --project_name 'finetune1' \\\n",
        "  --batch_size 4 \\\n",
        "  --learning_rate 1e-04 \\\n",
        "  --side_x 64 \\\n",
        "  --side_y 64 \\\n",
        "  --resize_ratio 1.0 \\\n",
        "  --uncond_p 0.2 \\\n",
        "  --checkpoints_dir '/content/checkpoints' \\"
      ],
      "metadata": {
        "id": "eTcnT-FKHcmD"
      },
      "execution_count": null,
      "outputs": []
    },
    {
      "cell_type": "markdown",
      "source": [
        "**Train Upsampler**\n",
        "- Also here I deactivated sampling during training. Only checkpoints will be saved (.pt files) and you can test image quality directly in testing notebook. \n",
        "\n"
      ],
      "metadata": {
        "id": "3HeZ5B5eJL6b"
      }
    },
    {
      "cell_type": "code",
      "source": [
        "!python '/content/glide-finetune/train_glide.py' \\\n",
        "  --train_upsample \\\n",
        "  --epochs 40 \\\n",
        "  --learning_rate 1e-04 \\\n",
        "  --side_x 64 \\\n",
        "  --side_y 64 \\\n",
        "  --uncond_p 0.0 \\\n",
        "  --checkpoints_dir '/content/checkpoints' \\"
      ],
      "metadata": {
        "id": "BKMfXBfuJKfV"
      },
      "execution_count": null,
      "outputs": []
    },
    {
      "cell_type": "markdown",
      "source": [
        "### Once training is complete, save checkpoints and go to testing notebook."
      ],
      "metadata": {
        "id": "a6yqXrEuJlL6"
      }
    }
  ]
}
